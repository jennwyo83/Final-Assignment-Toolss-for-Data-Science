{
  "metadata": {
    "kernelspec": {
      "name": "python",
      "display_name": "Pyolite",
      "language": "python"
    },
    "language_info": {
      "codemirror_mode": {
        "name": "python",
        "version": 3
      },
      "file_extension": ".py",
      "mimetype": "text/x-python",
      "name": "python",
      "nbconvert_exporter": "python",
      "pygments_lexer": "ipython3",
      "version": "3.8"
    }
  },
  "nbformat_minor": 4,
  "nbformat": 4,
  "cells": [
    {
      "cell_type": "markdown",
      "source": "<center>\n    <img src=\"https://cf-courses-data.s3.us.cloud-object-storage.appdomain.cloud/IBMDeveloperSkillsNetwork-DS0105EN-SkillsNetwork/labs/Module2/images/SN_web_lightmode.png\" width=\"300\" alt=\"cognitiveclass.ai logo\">\n</center>\n",
      "metadata": {}
    },
    {
      "cell_type": "markdown",
      "source": "#### Add your code below following the instructions given in the course\n",
      "metadata": {}
    },
    {
      "cell_type": "markdown",
      "source": "# My Jupyter Notebook on IBM Watson Studio",
      "metadata": {}
    },
    {
      "cell_type": "markdown",
      "source": "<b>Jennifer MacManus</b>\n    \n    My current occupation is a regisrtered nurse in a dialysis unit\n    ",
      "metadata": {}
    },
    {
      "cell_type": "markdown",
      "source": "<i>I am interested in data science because I have been the superuser for out EHR. We made a change between documentation programs a year ago and I was very involved with the transition to the new program. The program is specific to dialysis so the rest of the hospital remained on the same program as before. Now the hospital is in the process of switching oer to a new EHR for the entire facility and I am again the superuser that is making sure that the transition in my department goes smoothly and pateint care is not disrupted. I appreciate the complexity of EHR and the tools that are available to help guide patient care. I have always enjoyed making excel workbooks that utilize functions and formulas and I think that learning more about data science and using the tools that have been introduced in this course will open new opportunities for me leveraging both data science and health care knowledge.</i>",
      "metadata": {}
    },
    {
      "cell_type": "markdown",
      "source": "### My code is a simple math problem that we use to calculate the maximum fluid removal of a patient during hemodialysis. (13ml/kg/hr)",
      "metadata": {}
    },
    {
      "cell_type": "code",
      "source": "13*76.5*3.5",
      "metadata": {
        "trusted": true
      },
      "execution_count": 3,
      "outputs": [
        {
          "execution_count": 3,
          "output_type": "execute_result",
          "data": {
            "text/plain": "3480.75"
          },
          "metadata": {}
        }
      ]
    },
    {
      "cell_type": "markdown",
      "source": "- Make Bulleted items\n- By including a hyphen \n- at the start of each line\n    - Sub bullets are tabbed oer",
      "metadata": {}
    },
    {
      "cell_type": "markdown",
      "source": "1. Make nummbered items\n1. By typing a 1.\n1. At the start of each line\n    1. Sub steps that are numbered will turn into letters\n        1. and more variations",
      "metadata": {}
    },
    {
      "cell_type": "markdown",
      "source": "<img src=\"data:image/jpeg;base64,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\" />",
      "metadata": {}
    },
    {
      "cell_type": "markdown",
      "source": "<del>If I want to show something that I originally planned but want to get rid of I can strikethrough the text<del>",
      "metadata": {}
    },
    {
      "cell_type": "markdown",
      "source": "|Mon|Tues|Wed|Thur|Fri|\n|---|---|---|---|---|\n|Spaghetti|Tacos|Stir Fry|Burgers|Pizza|\n",
      "metadata": {}
    },
    {
      "cell_type": "markdown",
      "source": "__[Markdown for Jupyter notebooks cheatsheet](https://www.ibm.com/docs/en/db2-event-store/2.0.0?topic=notebooks-markdown-jupyter-cheatsheet)__ was a very helpful resource when I got stuck trying to create these markdowns",
      "metadata": {}
    },
    {
      "cell_type": "markdown",
      "source": "***",
      "metadata": {}
    },
    {
      "cell_type": "code",
      "source": "",
      "metadata": {},
      "execution_count": null,
      "outputs": []
    }
  ]
}